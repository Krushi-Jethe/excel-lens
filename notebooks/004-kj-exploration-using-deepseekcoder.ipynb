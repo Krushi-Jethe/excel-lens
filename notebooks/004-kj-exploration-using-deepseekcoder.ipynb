{
 "cells": [
  {
   "cell_type": "code",
   "execution_count": 1,
   "id": "c07f90a9",
   "metadata": {},
   "outputs": [],
   "source": [
    "%load_ext jupyter_black"
   ]
  },
  {
   "cell_type": "code",
   "execution_count": null,
   "id": "d37400f7",
   "metadata": {},
   "outputs": [],
   "source": [
    "import os\n",
    "\n",
    "os.chdir(\"..\")\n"
   ]
  },
  {
   "cell_type": "code",
   "execution_count": null,
   "id": "4ebb8e90",
   "metadata": {},
   "outputs": [],
   "source": [
    "import re\n",
    "import torch\n",
    "from transformers import AutoTokenizer, AutoModelForCausalLM\n",
    "from excel_lens import ExcelDataExtractor"
   ]
  },
  {
   "cell_type": "code",
   "execution_count": 3,
   "id": "6d68d31a",
   "metadata": {},
   "outputs": [
    {
     "name": "stdout",
     "output_type": "stream",
     "text": [
      "/mnt/c/Users/DELL/OneDrive/Documents/Python/master_scripts/excel-lens\n"
     ]
    }
   ],
   "source": [
    "!pwd"
   ]
  },
  {
   "cell_type": "code",
   "execution_count": 5,
   "id": "f22f57d3",
   "metadata": {},
   "outputs": [],
   "source": [
    "excel_file = ExcelDataExtractor()\n",
    "curr_file = excel_file.extract(\"files/dummy_excel_1.xlsx\")"
   ]
  },
  {
   "cell_type": "code",
   "execution_count": 27,
   "id": "ba1888b1",
   "metadata": {},
   "outputs": [
    {
     "data": {
      "text/html": [
       "<div>\n",
       "<style scoped>\n",
       "    .dataframe tbody tr th:only-of-type {\n",
       "        vertical-align: middle;\n",
       "    }\n",
       "\n",
       "    .dataframe tbody tr th {\n",
       "        vertical-align: top;\n",
       "    }\n",
       "\n",
       "    .dataframe thead th {\n",
       "        text-align: right;\n",
       "    }\n",
       "</style>\n",
       "<table border=\"1\" class=\"dataframe\">\n",
       "  <thead>\n",
       "    <tr style=\"text-align: right;\">\n",
       "      <th></th>\n",
       "      <th>Data source links</th>\n",
       "      <th>Description</th>\n",
       "    </tr>\n",
       "  </thead>\n",
       "  <tbody>\n",
       "    <tr>\n",
       "      <th>0</th>\n",
       "      <td>dataset_1</td>\n",
       "      <td>Lorem ipsum dolor sit amet, consectetur adipis...</td>\n",
       "    </tr>\n",
       "    <tr>\n",
       "      <th>1</th>\n",
       "      <td>dataset_2</td>\n",
       "      <td>Lorem ipsum dolor sit amet, consectetur adipis...</td>\n",
       "    </tr>\n",
       "    <tr>\n",
       "      <th>2</th>\n",
       "      <td>dataset_3</td>\n",
       "      <td>Lorem ipsum dolor sit amet, consectetur adipis...</td>\n",
       "    </tr>\n",
       "    <tr>\n",
       "      <th>3</th>\n",
       "      <td>dataset_4</td>\n",
       "      <td>Lorem ipsum dolor sit amet, consectetur adipis...</td>\n",
       "    </tr>\n",
       "    <tr>\n",
       "      <th>4</th>\n",
       "      <td>dataset_5</td>\n",
       "      <td>Lorem ipsum dolor sit amet, consectetur adipis...</td>\n",
       "    </tr>\n",
       "  </tbody>\n",
       "</table>\n",
       "</div>"
      ],
      "text/plain": [
       "  Data source links                                        Description\n",
       "0         dataset_1  Lorem ipsum dolor sit amet, consectetur adipis...\n",
       "1         dataset_2  Lorem ipsum dolor sit amet, consectetur adipis...\n",
       "2         dataset_3  Lorem ipsum dolor sit amet, consectetur adipis...\n",
       "3         dataset_4  Lorem ipsum dolor sit amet, consectetur adipis...\n",
       "4         dataset_5  Lorem ipsum dolor sit amet, consectetur adipis..."
      ]
     },
     "execution_count": 27,
     "metadata": {},
     "output_type": "execute_result"
    }
   ],
   "source": [
    "df = curr_file.sheets[\"links_and_images\"].tables[\"table_2\"]\n",
    "df"
   ]
  },
  {
   "cell_type": "code",
   "execution_count": 8,
   "id": "e3beeccd",
   "metadata": {},
   "outputs": [],
   "source": [
    "tokenizer = AutoTokenizer.from_pretrained(\n",
    "    \"deepseek-ai/deepseek-coder-1.3b-base\", trust_remote_code=True\n",
    ")\n",
    "model = AutoModelForCausalLM.from_pretrained(\n",
    "    \"deepseek-ai/deepseek-coder-1.3b-base\",\n",
    "    torch_dtype=torch.float16,\n",
    "    trust_remote_code=True,\n",
    ").cuda()"
   ]
  },
  {
   "cell_type": "code",
   "execution_count": 30,
   "id": "1e63b41c",
   "metadata": {},
   "outputs": [
    {
     "name": "stderr",
     "output_type": "stream",
     "text": [
      "Setting `pad_token_id` to `eos_token_id`:32014 for open-end generation.\n"
     ]
    },
    {
     "name": "stdout",
     "output_type": "stream",
     "text": [
      "\n",
      "Given pandas df = curr_file.sheets[\"links_and_images\"].tables[\"table_2\"]\n",
      "It has a column named \"Data source links\"\n",
      "write a code to find unique entries present in that column.\n",
      " \n",
      "\n",
      "A: You can use set() to get unique values.\n",
      "df['Data source links'].unique()\n",
      "\n",
      "\n"
     ]
    }
   ],
   "source": [
    "input_text = \"\"\"\n",
    "Given pandas df = curr_file.sheets[\"links_and_images\"].tables[\"table_2\"]\n",
    "It has a column named \"Data source links\"\n",
    "write a code to find unique entries present in that column.\n",
    " \"\"\"\n",
    "inputs = tokenizer(input_text, return_tensors=\"pt\").to(model.device)\n",
    "outputs = model.generate(**inputs, max_length=128)\n",
    "code = tokenizer.decode(outputs[0], skip_special_tokens=True)\n",
    "print(code)"
   ]
  },
  {
   "cell_type": "code",
   "execution_count": null,
   "id": "ff3fee08",
   "metadata": {},
   "outputs": [],
   "source": [
    "def extract_code_from_llm_output(text: str) -> list:\n",
    "    lines = text.splitlines()\n",
    "    code_lines = []\n",
    "    for line in lines:\n",
    "        # Skip LLM notes, markdown, and comments that don't start with code\n",
    "        if (\n",
    "            line.strip().startswith(\"#\")\n",
    "            or \"Setting pad_token\" in line\n",
    "            or re.match(r\"^\\s*$\", line)\n",
    "        ):\n",
    "            continue\n",
    "        if re.match(r\"^\\s*(import|df|pd|\\w+\\s*=)\", line):\n",
    "            code_lines.append(line)\n",
    "    return code_lines"
   ]
  },
  {
   "cell_type": "code",
   "execution_count": 32,
   "id": "993dca29",
   "metadata": {},
   "outputs": [
    {
     "data": {
      "text/plain": [
       "[\"df['Data source links'].unique()\"]"
      ]
     },
     "execution_count": 32,
     "metadata": {},
     "output_type": "execute_result"
    }
   ],
   "source": [
    "cl_code = extract_code_from_llm_output(code)\n",
    "cl_code"
   ]
  },
  {
   "cell_type": "code",
   "execution_count": null,
   "id": "d2b46659",
   "metadata": {},
   "outputs": [
    {
     "name": "stdout",
     "output_type": "stream",
     "text": [
      "['dataset_1' 'dataset_2' 'dataset_3' 'dataset_4' 'dataset_5']\n"
     ]
    }
   ],
   "source": [
    "# Testing model code\n",
    "exec(\"import pandas as pd\\n\" + f\"uniq = {cl_code[0]}\\nprint(uniq)\")"
   ]
  },
  {
   "cell_type": "code",
   "execution_count": null,
   "id": "1711d744",
   "metadata": {},
   "outputs": [
    {
     "name": "stdout",
     "output_type": "stream",
     "text": [
      "5\n"
     ]
    }
   ],
   "source": [
    "# Testing written code\n",
    "out = exec(\n",
    "    \"import pandas as pd\\ndf = pd.read_excel('files/dummy_excel_1.xlsx')\\nprint(df['Data source links'].nunique())\"\n",
    ")"
   ]
  },
  {
   "cell_type": "code",
   "execution_count": null,
   "id": "242a7b5d",
   "metadata": {},
   "outputs": [],
   "source": []
  }
 ],
 "metadata": {
  "kernelspec": {
   "display_name": "excel-lens",
   "language": "python",
   "name": "python3"
  },
  "language_info": {
   "codemirror_mode": {
    "name": "ipython",
    "version": 3
   },
   "file_extension": ".py",
   "mimetype": "text/x-python",
   "name": "python",
   "nbconvert_exporter": "python",
   "pygments_lexer": "ipython3",
   "version": "3.12.9"
  }
 },
 "nbformat": 4,
 "nbformat_minor": 5
}
