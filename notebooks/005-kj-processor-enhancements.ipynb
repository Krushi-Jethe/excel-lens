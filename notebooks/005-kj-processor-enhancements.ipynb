{
 "cells": [
  {
   "cell_type": "code",
   "execution_count": 1,
   "id": "0e06715a",
   "metadata": {},
   "outputs": [],
   "source": [
    "%load_ext jupyter_black"
   ]
  },
  {
   "cell_type": "code",
   "execution_count": 2,
   "id": "03e49819",
   "metadata": {},
   "outputs": [],
   "source": [
    "import os\n",
    "\n",
    "os.chdir(\"..\")"
   ]
  },
  {
   "cell_type": "code",
   "execution_count": 3,
   "id": "75258280",
   "metadata": {},
   "outputs": [],
   "source": [
    "from excel_lens import ExcelDataExtractor"
   ]
  },
  {
   "cell_type": "code",
   "execution_count": 4,
   "id": "83e78d8c",
   "metadata": {},
   "outputs": [
    {
     "name": "stderr",
     "output_type": "stream",
     "text": [
      "/home/kj1909/anaconda3/envs/excel-lens/lib/python3.12/site-packages/openpyxl/worksheet/_reader.py:329: UserWarning: Conditional Formatting extension is not supported and will be removed\n",
      "  warn(msg)\n",
      "/home/kj1909/anaconda3/envs/excel-lens/lib/python3.12/site-packages/openpyxl/worksheet/_reader.py:329: UserWarning: Conditional Formatting extension is not supported and will be removed\n",
      "  warn(msg)\n",
      "/home/kj1909/anaconda3/envs/excel-lens/lib/python3.12/site-packages/openpyxl/reader/drawings.py:33: UserWarning: DrawingML support is incomplete and limited to charts and images only. Shapes and drawings will be lost.\n",
      "  warn(\"DrawingML support is incomplete and limited to charts and images only. Shapes and drawings will be lost.\")\n"
     ]
    }
   ],
   "source": [
    "processor = ExcelDataExtractor()\n",
    "data = processor.extract(\"../GotheBluesV1.0.xlsx\")"
   ]
  },
  {
   "cell_type": "code",
   "execution_count": 5,
   "id": "4f26bfc6",
   "metadata": {},
   "outputs": [
    {
     "data": {
      "text/plain": [
       "13"
      ]
     },
     "execution_count": 5,
     "metadata": {},
     "output_type": "execute_result"
    }
   ],
   "source": [
    "data.nsheets"
   ]
  },
  {
   "cell_type": "code",
   "execution_count": 6,
   "id": "7de5bbb4",
   "metadata": {},
   "outputs": [
    {
     "data": {
      "text/plain": [
       "['Model',\n",
       " 'Lists',\n",
       " 'Projects',\n",
       " 'Exp',\n",
       " 'HR',\n",
       " 'Data',\n",
       " 'Sales',\n",
       " 'Profit',\n",
       " 'Cash',\n",
       " 'Calcs',\n",
       " 'Charts',\n",
       " 'Check',\n",
       " 'Dashboard']"
      ]
     },
     "execution_count": 6,
     "metadata": {},
     "output_type": "execute_result"
    }
   ],
   "source": [
    "data.sheet_names"
   ]
  },
  {
   "cell_type": "code",
   "execution_count": 9,
   "id": "f4441352",
   "metadata": {},
   "outputs": [],
   "source": [
    "sheet_model = data[\"HR\"]"
   ]
  },
  {
   "cell_type": "code",
   "execution_count": 10,
   "id": "a7d0c00a",
   "metadata": {},
   "outputs": [
    {
     "data": {
      "text/plain": [
       "5"
      ]
     },
     "execution_count": 10,
     "metadata": {},
     "output_type": "execute_result"
    }
   ],
   "source": [
    "sheet_model.ntables"
   ]
  },
  {
   "cell_type": "code",
   "execution_count": null,
   "id": "df2e9dbd",
   "metadata": {},
   "outputs": [],
   "source": []
  }
 ],
 "metadata": {
  "kernelspec": {
   "display_name": "excel-lens",
   "language": "python",
   "name": "python3"
  },
  "language_info": {
   "codemirror_mode": {
    "name": "ipython",
    "version": 3
   },
   "file_extension": ".py",
   "mimetype": "text/x-python",
   "name": "python",
   "nbconvert_exporter": "python",
   "pygments_lexer": "ipython3",
   "version": "3.12.9"
  }
 },
 "nbformat": 4,
 "nbformat_minor": 5
}
